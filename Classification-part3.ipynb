{
 "cells": [
  {
   "cell_type": "markdown",
   "metadata": {},
   "source": [
    "# Classification - Build model, predict result"
   ]
  },
  {
   "cell_type": "code",
   "execution_count": 1,
   "metadata": {},
   "outputs": [],
   "source": [
    "import requests # library to handle requests\n",
    "import pandas as pd # library for data analsysis\n",
    "import numpy as np # library to handle data in a vectorized manner\n",
    "import random # library for random number generation\n",
    "\n",
    "from geopy.geocoders import Nominatim # module to convert an address into latitude and longitude values\n",
    "\n",
    "# libraries for displaying images\n",
    "from IPython.display import Image \n",
    "from IPython.core.display import HTML \n",
    "    \n",
    "# tranforming json file into a pandas dataframe library\n",
    "from pandas.io.json import json_normalize\n",
    "\n",
    "import folium # plotting library\n",
    "\n",
    "pd.set_option('display.max_columns', None)\n",
    "pd.set_option('display.max_rows', None)"
   ]
  },
  {
   "cell_type": "markdown",
   "metadata": {},
   "source": [
    "## Now, we use our trained model to see the result\n",
    "\n",
    "1. get the coordinate\n",
    "1. get the near venues from Foursquare\n",
    "1. according to the near venues and our trained model, predict if the result below to Type 0, 1, or 2"
   ]
  },
  {
   "cell_type": "markdown",
   "metadata": {},
   "source": [
    "Foursquare ID info"
   ]
  },
  {
   "cell_type": "code",
   "execution_count": 2,
   "metadata": {},
   "outputs": [
    {
     "name": "stdout",
     "output_type": "stream",
     "text": [
      "Your credentails:\n",
      "CLIENT_ID: 5P4U2KHYRYF4YZIKIGSGT45I2ILKGBKE5TKNH2LIDZAPLO3J\n",
      "CLIENT_SECRET:EF2SFFD0UYUVDKCLI0BVKPCTZGR50BMKTE5KTNQIUF4CWZHB\n"
     ]
    }
   ],
   "source": [
    "CLIENT_ID = '5P4U2KHYRYF4YZIKIGSGT45I2ILKGBKE5TKNH2LIDZAPLO3J' # your Foursquare ID\n",
    "CLIENT_SECRET = 'EF2SFFD0UYUVDKCLI0BVKPCTZGR50BMKTE5KTNQIUF4CWZHB' # your Foursquare Secret\n",
    "VERSION = '20180604'\n",
    "LIMIT = 100\n",
    "print('Your credentails:')\n",
    "print('CLIENT_ID: ' + CLIENT_ID)\n",
    "print('CLIENT_SECRET:' + CLIENT_SECRET)"
   ]
  },
  {
   "cell_type": "code",
   "execution_count": 3,
   "metadata": {},
   "outputs": [
    {
     "data": {
      "text/plain": [
       "(22.3188727, 114.1920097)"
      ]
     },
     "execution_count": 3,
     "metadata": {},
     "output_type": "execute_result"
    }
   ],
   "source": [
    "def get_geo_coordinates(address):\n",
    "    geolocator = Nominatim(user_agent=\"mtr_agent\")\n",
    "    location = geolocator.geocode(address)\n",
    "    if location == None:\n",
    "        return (np.nan, np.nan)\n",
    "    latitude = location.latitude\n",
    "    longitude = location.longitude\n",
    "    return (latitude, longitude)\n",
    "\n",
    "addr = 'San Ma Tau St, Ma Tau Kok, To Kwa Wan, Hong Kong, China'\n",
    "lat, long = get_geo_coordinates(addr)\n",
    "lat, long"
   ]
  },
  {
   "cell_type": "code",
   "execution_count": 5,
   "metadata": {},
   "outputs": [],
   "source": [
    "# Function to get the top 100 venues that are in a neighborhood within a radius of 500 meters\n",
    "\n",
    "LIMIT = 100 # top 100 venues\n",
    "\n",
    "def getNearbyVenues(names, latitudes, longitudes, radius=500):\n",
    "    \n",
    "    venues_list=[]\n",
    "    for name, lat, lng in zip(names, latitudes, longitudes):\n",
    "            \n",
    "        # create the API request URL\n",
    "        url = 'https://api.foursquare.com/v2/venues/explore?&client_id={}&client_secret={}&v={}&ll={},{}&radius={}&limit={}'.format(\n",
    "            CLIENT_ID, \n",
    "            CLIENT_SECRET, \n",
    "            VERSION, \n",
    "            lat, \n",
    "            lng, \n",
    "            radius, \n",
    "            LIMIT)\n",
    "            \n",
    "        # make the GET request\n",
    "        results = requests.get(url).json()[\"response\"]['groups'][0]['items']\n",
    "        \n",
    "        # return only relevant information for each nearby venue\n",
    "        venues_list.append([(\n",
    "            name, \n",
    "            lat, \n",
    "            lng, \n",
    "            v['venue']['name'], \n",
    "            v['venue']['location']['lat'], \n",
    "            v['venue']['location']['lng'],  \n",
    "            v['venue']['categories'][0]['name']) for v in results])\n",
    "\n",
    "    nearby_venues = pd.DataFrame([item for venue_list in venues_list for item in venue_list])\n",
    "    nearby_venues.columns = ['Type', \n",
    "                  'Latitude', \n",
    "                  'Longitude', \n",
    "                  'Venue', \n",
    "                  'Venue Latitude', \n",
    "                  'Venue Longitude', \n",
    "                  'Venue Category']\n",
    "    \n",
    "    return(nearby_venues)\n",
    "\n"
   ]
  },
  {
   "cell_type": "code",
   "execution_count": 6,
   "metadata": {},
   "outputs": [],
   "source": [
    "# Run the above function on each spots and create a new dataframe called venues\n",
    "\n",
    "venues = getNearbyVenues(\n",
    "                                names=[np.nan],\n",
    "                                latitudes=[lat],\n",
    "                                longitudes=[long]\n",
    "                                )"
   ]
  },
  {
   "cell_type": "markdown",
   "metadata": {},
   "source": [
    "We add the above venues data into the venues list near the locations of McDonald's and Starbucks "
   ]
  },
  {
   "cell_type": "code",
   "execution_count": 7,
   "metadata": {},
   "outputs": [],
   "source": [
    "all_venues = pd.read_excel('venues.xlsx', index_col=0)\n",
    "all_venues = all_venues.append(venues)"
   ]
  },
  {
   "cell_type": "code",
   "execution_count": 8,
   "metadata": {},
   "outputs": [
    {
     "data": {
      "text/html": [
       "<div>\n",
       "<style scoped>\n",
       "    .dataframe tbody tr th:only-of-type {\n",
       "        vertical-align: middle;\n",
       "    }\n",
       "\n",
       "    .dataframe tbody tr th {\n",
       "        vertical-align: top;\n",
       "    }\n",
       "\n",
       "    .dataframe thead th {\n",
       "        text-align: right;\n",
       "    }\n",
       "</style>\n",
       "<table border=\"1\" class=\"dataframe\">\n",
       "  <thead>\n",
       "    <tr style=\"text-align: right;\">\n",
       "      <th></th>\n",
       "      <th>Type</th>\n",
       "      <th>Latitude</th>\n",
       "      <th>Longitude</th>\n",
       "      <th>Venue</th>\n",
       "      <th>Venue Latitude</th>\n",
       "      <th>Venue Longitude</th>\n",
       "      <th>Venue Category</th>\n",
       "    </tr>\n",
       "  </thead>\n",
       "  <tbody>\n",
       "    <tr>\n",
       "      <th>0</th>\n",
       "      <td>NaN</td>\n",
       "      <td>22.318873</td>\n",
       "      <td>114.19201</td>\n",
       "      <td>The Mahjong Hostel (麻雀客棧)</td>\n",
       "      <td>22.320208</td>\n",
       "      <td>114.187643</td>\n",
       "      <td>Hostel</td>\n",
       "    </tr>\n",
       "    <tr>\n",
       "      <th>1</th>\n",
       "      <td>NaN</td>\n",
       "      <td>22.318873</td>\n",
       "      <td>114.19201</td>\n",
       "      <td>Victoria Harbour Restaurant 海港酒家</td>\n",
       "      <td>22.316943</td>\n",
       "      <td>114.189593</td>\n",
       "      <td>Chinese Restaurant</td>\n",
       "    </tr>\n",
       "    <tr>\n",
       "      <th>2</th>\n",
       "      <td>NaN</td>\n",
       "      <td>22.318873</td>\n",
       "      <td>114.19201</td>\n",
       "      <td>鴻福海鮮四季火鍋</td>\n",
       "      <td>22.315963</td>\n",
       "      <td>114.189806</td>\n",
       "      <td>Chinese Restaurant</td>\n",
       "    </tr>\n",
       "    <tr>\n",
       "      <th>3</th>\n",
       "      <td>NaN</td>\n",
       "      <td>22.318873</td>\n",
       "      <td>114.19201</td>\n",
       "      <td>The Great Restaurant (一品雞煲火鍋)</td>\n",
       "      <td>22.322365</td>\n",
       "      <td>114.189045</td>\n",
       "      <td>Chinese Restaurant</td>\n",
       "    </tr>\n",
       "    <tr>\n",
       "      <th>4</th>\n",
       "      <td>NaN</td>\n",
       "      <td>22.318873</td>\n",
       "      <td>114.19201</td>\n",
       "      <td>Cattle Depot Artist Village (Ex-Ma Tau Kok Ani...</td>\n",
       "      <td>22.321037</td>\n",
       "      <td>114.191651</td>\n",
       "      <td>Art Gallery</td>\n",
       "    </tr>\n",
       "    <tr>\n",
       "      <th>5</th>\n",
       "      <td>NaN</td>\n",
       "      <td>22.318873</td>\n",
       "      <td>114.19201</td>\n",
       "      <td>Tsui Wah Restaurant (翠華餐廳)</td>\n",
       "      <td>22.321261</td>\n",
       "      <td>114.188455</td>\n",
       "      <td>Hong Kong Restaurant</td>\n",
       "    </tr>\n",
       "    <tr>\n",
       "      <th>6</th>\n",
       "      <td>NaN</td>\n",
       "      <td>22.318873</td>\n",
       "      <td>114.19201</td>\n",
       "      <td>Harbour Plaza 8 Degrees (8度海逸酒店)</td>\n",
       "      <td>22.322952</td>\n",
       "      <td>114.190646</td>\n",
       "      <td>Hotel</td>\n",
       "    </tr>\n",
       "    <tr>\n",
       "      <th>7</th>\n",
       "      <td>NaN</td>\n",
       "      <td>22.318873</td>\n",
       "      <td>114.19201</td>\n",
       "      <td>McDonald's 麥當勞</td>\n",
       "      <td>22.318930</td>\n",
       "      <td>114.187754</td>\n",
       "      <td>Fast Food Restaurant</td>\n",
       "    </tr>\n",
       "    <tr>\n",
       "      <th>8</th>\n",
       "      <td>NaN</td>\n",
       "      <td>22.318873</td>\n",
       "      <td>114.19201</td>\n",
       "      <td>To Kwa Wan Market 土瓜灣街巿</td>\n",
       "      <td>22.317467</td>\n",
       "      <td>114.188206</td>\n",
       "      <td>Food &amp; Drink Shop</td>\n",
       "    </tr>\n",
       "    <tr>\n",
       "      <th>9</th>\n",
       "      <td>NaN</td>\n",
       "      <td>22.318873</td>\n",
       "      <td>114.19201</td>\n",
       "      <td>Goteborg Restaurant (哥登堡餐廳)</td>\n",
       "      <td>22.317019</td>\n",
       "      <td>114.189571</td>\n",
       "      <td>Steakhouse</td>\n",
       "    </tr>\n",
       "    <tr>\n",
       "      <th>10</th>\n",
       "      <td>NaN</td>\n",
       "      <td>22.318873</td>\n",
       "      <td>114.19201</td>\n",
       "      <td>Grand Waterfront Plaza 翔龍灣廣場</td>\n",
       "      <td>22.319335</td>\n",
       "      <td>114.192903</td>\n",
       "      <td>Shopping Mall</td>\n",
       "    </tr>\n",
       "    <tr>\n",
       "      <th>11</th>\n",
       "      <td>NaN</td>\n",
       "      <td>22.318873</td>\n",
       "      <td>114.19201</td>\n",
       "      <td>North Viet Pho (北越牛肉粉專門店)</td>\n",
       "      <td>22.319042</td>\n",
       "      <td>114.192967</td>\n",
       "      <td>Vietnamese Restaurant</td>\n",
       "    </tr>\n",
       "    <tr>\n",
       "      <th>12</th>\n",
       "      <td>NaN</td>\n",
       "      <td>22.318873</td>\n",
       "      <td>114.19201</td>\n",
       "      <td>Kowloon City Ferry Pier (九龍城渡輪碼頭)</td>\n",
       "      <td>22.318083</td>\n",
       "      <td>114.194000</td>\n",
       "      <td>Pier</td>\n",
       "    </tr>\n",
       "    <tr>\n",
       "      <th>13</th>\n",
       "      <td>NaN</td>\n",
       "      <td>22.318873</td>\n",
       "      <td>114.19201</td>\n",
       "      <td>John Choy Café</td>\n",
       "      <td>22.316774</td>\n",
       "      <td>114.192320</td>\n",
       "      <td>Café</td>\n",
       "    </tr>\n",
       "    <tr>\n",
       "      <th>14</th>\n",
       "      <td>NaN</td>\n",
       "      <td>22.318873</td>\n",
       "      <td>114.19201</td>\n",
       "      <td>展興扒王餐廳</td>\n",
       "      <td>22.317029</td>\n",
       "      <td>114.190768</td>\n",
       "      <td>Hong Kong Restaurant</td>\n",
       "    </tr>\n",
       "    <tr>\n",
       "      <th>15</th>\n",
       "      <td>NaN</td>\n",
       "      <td>22.318873</td>\n",
       "      <td>114.19201</td>\n",
       "      <td>Ma Tau Kok Public Pier (馬頭角公眾碼頭)</td>\n",
       "      <td>22.318417</td>\n",
       "      <td>114.194361</td>\n",
       "      <td>Pier</td>\n",
       "    </tr>\n",
       "    <tr>\n",
       "      <th>16</th>\n",
       "      <td>NaN</td>\n",
       "      <td>22.318873</td>\n",
       "      <td>114.19201</td>\n",
       "      <td>金苑粉麵</td>\n",
       "      <td>22.316906</td>\n",
       "      <td>114.189588</td>\n",
       "      <td>Noodle House</td>\n",
       "    </tr>\n",
       "    <tr>\n",
       "      <th>17</th>\n",
       "      <td>NaN</td>\n",
       "      <td>22.318873</td>\n",
       "      <td>114.19201</td>\n",
       "      <td>Hoi Sham Park (Hoi Sham Park 海心公園)</td>\n",
       "      <td>22.315093</td>\n",
       "      <td>114.191681</td>\n",
       "      <td>Park</td>\n",
       "    </tr>\n",
       "    <tr>\n",
       "      <th>18</th>\n",
       "      <td>NaN</td>\n",
       "      <td>22.318873</td>\n",
       "      <td>114.19201</td>\n",
       "      <td>粥家莊</td>\n",
       "      <td>22.321506</td>\n",
       "      <td>114.188758</td>\n",
       "      <td>Chinese Breakfast Place</td>\n",
       "    </tr>\n",
       "    <tr>\n",
       "      <th>19</th>\n",
       "      <td>NaN</td>\n",
       "      <td>22.318873</td>\n",
       "      <td>114.19201</td>\n",
       "      <td>㑹所一號</td>\n",
       "      <td>22.322148</td>\n",
       "      <td>114.189048</td>\n",
       "      <td>Chinese Restaurant</td>\n",
       "    </tr>\n",
       "    <tr>\n",
       "      <th>20</th>\n",
       "      <td>NaN</td>\n",
       "      <td>22.318873</td>\n",
       "      <td>114.19201</td>\n",
       "      <td>新富盈四川麻辣米線</td>\n",
       "      <td>22.322162</td>\n",
       "      <td>114.188857</td>\n",
       "      <td>Noodle House</td>\n",
       "    </tr>\n",
       "  </tbody>\n",
       "</table>\n",
       "</div>"
      ],
      "text/plain": [
       "    Type   Latitude  Longitude  \\\n",
       "0    NaN  22.318873  114.19201   \n",
       "1    NaN  22.318873  114.19201   \n",
       "2    NaN  22.318873  114.19201   \n",
       "3    NaN  22.318873  114.19201   \n",
       "4    NaN  22.318873  114.19201   \n",
       "5    NaN  22.318873  114.19201   \n",
       "6    NaN  22.318873  114.19201   \n",
       "7    NaN  22.318873  114.19201   \n",
       "8    NaN  22.318873  114.19201   \n",
       "9    NaN  22.318873  114.19201   \n",
       "10   NaN  22.318873  114.19201   \n",
       "11   NaN  22.318873  114.19201   \n",
       "12   NaN  22.318873  114.19201   \n",
       "13   NaN  22.318873  114.19201   \n",
       "14   NaN  22.318873  114.19201   \n",
       "15   NaN  22.318873  114.19201   \n",
       "16   NaN  22.318873  114.19201   \n",
       "17   NaN  22.318873  114.19201   \n",
       "18   NaN  22.318873  114.19201   \n",
       "19   NaN  22.318873  114.19201   \n",
       "20   NaN  22.318873  114.19201   \n",
       "\n",
       "                                                Venue  Venue Latitude  \\\n",
       "0                           The Mahjong Hostel (麻雀客棧)       22.320208   \n",
       "1                    Victoria Harbour Restaurant 海港酒家       22.316943   \n",
       "2                                            鴻福海鮮四季火鍋       22.315963   \n",
       "3                       The Great Restaurant (一品雞煲火鍋)       22.322365   \n",
       "4   Cattle Depot Artist Village (Ex-Ma Tau Kok Ani...       22.321037   \n",
       "5                          Tsui Wah Restaurant (翠華餐廳)       22.321261   \n",
       "6                    Harbour Plaza 8 Degrees (8度海逸酒店)       22.322952   \n",
       "7                                      McDonald's 麥當勞       22.318930   \n",
       "8                             To Kwa Wan Market 土瓜灣街巿       22.317467   \n",
       "9                         Goteborg Restaurant (哥登堡餐廳)       22.317019   \n",
       "10                       Grand Waterfront Plaza 翔龍灣廣場       22.319335   \n",
       "11                          North Viet Pho (北越牛肉粉專門店)       22.319042   \n",
       "12                  Kowloon City Ferry Pier (九龍城渡輪碼頭)       22.318083   \n",
       "13                                     John Choy Café       22.316774   \n",
       "14                                             展興扒王餐廳       22.317029   \n",
       "15                   Ma Tau Kok Public Pier (馬頭角公眾碼頭)       22.318417   \n",
       "16                                               金苑粉麵       22.316906   \n",
       "17                 Hoi Sham Park (Hoi Sham Park 海心公園)       22.315093   \n",
       "18                                                粥家莊       22.321506   \n",
       "19                                               㑹所一號       22.322148   \n",
       "20                                          新富盈四川麻辣米線       22.322162   \n",
       "\n",
       "    Venue Longitude           Venue Category  \n",
       "0        114.187643                   Hostel  \n",
       "1        114.189593       Chinese Restaurant  \n",
       "2        114.189806       Chinese Restaurant  \n",
       "3        114.189045       Chinese Restaurant  \n",
       "4        114.191651              Art Gallery  \n",
       "5        114.188455     Hong Kong Restaurant  \n",
       "6        114.190646                    Hotel  \n",
       "7        114.187754     Fast Food Restaurant  \n",
       "8        114.188206        Food & Drink Shop  \n",
       "9        114.189571               Steakhouse  \n",
       "10       114.192903            Shopping Mall  \n",
       "11       114.192967    Vietnamese Restaurant  \n",
       "12       114.194000                     Pier  \n",
       "13       114.192320                     Café  \n",
       "14       114.190768     Hong Kong Restaurant  \n",
       "15       114.194361                     Pier  \n",
       "16       114.189588             Noodle House  \n",
       "17       114.191681                     Park  \n",
       "18       114.188758  Chinese Breakfast Place  \n",
       "19       114.189048       Chinese Restaurant  \n",
       "20       114.188857             Noodle House  "
      ]
     },
     "execution_count": 8,
     "metadata": {},
     "output_type": "execute_result"
    }
   ],
   "source": [
    "all_venues[np.isnan(all_venues['Type'])]"
   ]
  },
  {
   "cell_type": "markdown",
   "metadata": {},
   "source": [
    "create one more column to identify spots to group data"
   ]
  },
  {
   "cell_type": "code",
   "execution_count": 9,
   "metadata": {},
   "outputs": [],
   "source": [
    "# one hot encoding\n",
    "onehot = pd.get_dummies(all_venues[['Venue Category']], prefix=\"\", prefix_sep=\"\")\n",
    "\n",
    "# add neighborhood column back to dataframe\n",
    "onehot['Type'] = all_venues['Type'] \n",
    "onehot['Latitude'] = all_venues['Latitude']\n",
    "onehot['Longitude'] = all_venues['Longitude']\n"
   ]
  },
  {
   "cell_type": "code",
   "execution_count": 10,
   "metadata": {},
   "outputs": [],
   "source": [
    "onehot['dummyID'] = onehot['Latitude'].astype(str) + onehot['Longitude'].astype(str)"
   ]
  },
  {
   "cell_type": "code",
   "execution_count": 11,
   "metadata": {},
   "outputs": [],
   "source": [
    "# Next, let's group rows by neighborhood and by taking the mean of the frequency of occurrence of each category\n",
    "\n",
    "grouped = onehot.groupby('dummyID').mean().reset_index()\n"
   ]
  },
  {
   "cell_type": "code",
   "execution_count": 12,
   "metadata": {},
   "outputs": [],
   "source": [
    "data = grouped[~np.isnan(grouped['Type'])]\n",
    "result = grouped[np.isnan(grouped['Type'])]\n",
    "Y = data['Type']\n",
    "X = data.drop(columns=['Type', 'Latitude', 'Longitude','dummyID'])\n",
    "\n",
    "X_result = result.drop(columns=['Type', 'Latitude', 'Longitude','dummyID'])"
   ]
  },
  {
   "cell_type": "code",
   "execution_count": 13,
   "metadata": {},
   "outputs": [],
   "source": [
    "from sklearn.neighbors import KNeighborsClassifier"
   ]
  },
  {
   "cell_type": "markdown",
   "metadata": {
    "button": false,
    "new_sheet": false,
    "run_control": {
     "read_only": false
    }
   },
   "source": [
    "### Train Test Split  "
   ]
  },
  {
   "cell_type": "code",
   "execution_count": 34,
   "metadata": {
    "button": false,
    "collapsed": true,
    "new_sheet": false,
    "run_control": {
     "read_only": false
    }
   },
   "outputs": [
    {
     "name": "stdout",
     "output_type": "stream",
     "text": [
      "Train set: (229, 307) (229,)\n",
      "Test set: (58, 307) (58,)\n"
     ]
    }
   ],
   "source": [
    "from sklearn.model_selection import train_test_split\n",
    "X_train, X_test, y_train, y_test = train_test_split( X, Y, test_size=0.2)\n",
    "print ('Train set:', X_train.shape,  y_train.shape)\n",
    "print ('Test set:', X_test.shape,  y_test.shape)"
   ]
  },
  {
   "cell_type": "markdown",
   "metadata": {
    "button": false,
    "new_sheet": false,
    "run_control": {
     "read_only": false
    }
   },
   "source": [
    "<div id=\"classification\">\n",
    "    <h2>Classification</h2>\n",
    "</div>"
   ]
  },
  {
   "cell_type": "markdown",
   "metadata": {
    "button": false,
    "new_sheet": false,
    "run_control": {
     "read_only": false
    }
   },
   "source": [
    "<h3>K nearest neighbor (KNN)</h3>"
   ]
  },
  {
   "cell_type": "markdown",
   "metadata": {
    "button": false,
    "new_sheet": false,
    "run_control": {
     "read_only": false
    }
   },
   "source": [
    "#### Import library "
   ]
  },
  {
   "cell_type": "markdown",
   "metadata": {
    "button": false,
    "new_sheet": false,
    "run_control": {
     "read_only": false
    }
   },
   "source": [
    "Classifier implementing the k-nearest neighbors vote."
   ]
  },
  {
   "cell_type": "markdown",
   "metadata": {
    "button": false,
    "new_sheet": false,
    "run_control": {
     "read_only": false
    }
   },
   "source": [
    "### Training\n",
    "\n",
    "Lets start the algorithm with k=4 for now:"
   ]
  },
  {
   "cell_type": "code",
   "execution_count": 35,
   "metadata": {
    "button": false,
    "collapsed": true,
    "new_sheet": false,
    "run_control": {
     "read_only": false
    }
   },
   "outputs": [
    {
     "data": {
      "text/plain": [
       "KNeighborsClassifier(algorithm='auto', leaf_size=30, metric='minkowski',\n",
       "           metric_params=None, n_jobs=None, n_neighbors=4, p=2,\n",
       "           weights='uniform')"
      ]
     },
     "execution_count": 35,
     "metadata": {},
     "output_type": "execute_result"
    }
   ],
   "source": [
    "k = 4\n",
    "#Train Model and Predict  \n",
    "neigh = KNeighborsClassifier(n_neighbors = k).fit(X_train,y_train)\n",
    "neigh"
   ]
  },
  {
   "cell_type": "markdown",
   "metadata": {
    "button": false,
    "new_sheet": false,
    "run_control": {
     "read_only": false
    }
   },
   "source": [
    "### Predicting\n",
    "we can use the model to predict the test set:"
   ]
  },
  {
   "cell_type": "code",
   "execution_count": 36,
   "metadata": {
    "button": false,
    "collapsed": true,
    "new_sheet": false,
    "run_control": {
     "read_only": false
    }
   },
   "outputs": [
    {
     "data": {
      "text/plain": [
       "array([2., 0., 2., 0., 0., 2., 1., 2., 1., 1., 2., 1., 1., 0., 0., 1., 2.,\n",
       "       2., 0., 2., 1., 2., 2., 2., 0., 2., 2., 2., 0., 1., 0., 2., 0., 1.,\n",
       "       1., 2., 0., 2., 2., 2., 2., 0., 2., 1., 2., 0., 2., 2., 2., 0., 2.,\n",
       "       1., 2., 0., 2., 1., 2., 2.])"
      ]
     },
     "execution_count": 36,
     "metadata": {},
     "output_type": "execute_result"
    }
   ],
   "source": [
    "yhat = neigh.predict(X_test)\n",
    "yhat"
   ]
  },
  {
   "cell_type": "markdown",
   "metadata": {
    "button": false,
    "new_sheet": false,
    "run_control": {
     "read_only": false
    }
   },
   "source": [
    "### Accuracy evaluation\n",
    "In multilabel classification, __accuracy classification score__ is a function that computes subset accuracy. This function is equal to the jaccard_similarity_score function. Essentially, it calculates how closely the actual labels and predicted labels are matched in the test set."
   ]
  },
  {
   "cell_type": "code",
   "execution_count": 37,
   "metadata": {},
   "outputs": [
    {
     "name": "stdout",
     "output_type": "stream",
     "text": [
      "Train set Accuracy:  0.7161572052401747\n",
      "Test set Accuracy:  0.5862068965517241\n"
     ]
    }
   ],
   "source": [
    "from sklearn import metrics\n",
    "print(\"Train set Accuracy: \", metrics.accuracy_score(y_train, neigh.predict(X_train)))\n",
    "print(\"Test set Accuracy: \", metrics.accuracy_score(y_test, yhat))"
   ]
  },
  {
   "cell_type": "markdown",
   "metadata": {
    "button": false,
    "new_sheet": false,
    "run_control": {
     "read_only": false
    }
   },
   "source": [
    "#### What about other K?"
   ]
  },
  {
   "cell_type": "code",
   "execution_count": 38,
   "metadata": {
    "button": false,
    "collapsed": true,
    "new_sheet": false,
    "run_control": {
     "read_only": false
    }
   },
   "outputs": [
    {
     "data": {
      "text/plain": [
       "array([0.67241379, 0.63793103, 0.67241379, 0.5862069 , 0.62068966,\n",
       "       0.5862069 , 0.62068966, 0.60344828, 0.60344828])"
      ]
     },
     "execution_count": 38,
     "metadata": {},
     "output_type": "execute_result"
    }
   ],
   "source": [
    "from sklearn.metrics import jaccard_similarity_score\n",
    "\n",
    "Ks = 10\n",
    "mean_acc = np.zeros((Ks-1))\n",
    "std_acc = np.zeros((Ks-1))\n",
    "jaccard = np.zeros((Ks-1))\n",
    "ConfustionMx = [];\n",
    "for n in range(1,Ks):\n",
    "    \n",
    "    #Train Model and Predict  \n",
    "    neigh = KNeighborsClassifier(n_neighbors = n).fit(X_train,y_train)\n",
    "    yhat=neigh.predict(X_test)\n",
    "    mean_acc[n-1] = metrics.accuracy_score(y_test, yhat)\n",
    "\n",
    "\n",
    "mean_acc"
   ]
  },
  {
   "cell_type": "markdown",
   "metadata": {},
   "source": [
    "According to the above results, best K will be k=3"
   ]
  },
  {
   "cell_type": "code",
   "execution_count": 39,
   "metadata": {},
   "outputs": [
    {
     "data": {
      "text/plain": [
       "array([0.])"
      ]
     },
     "execution_count": 39,
     "metadata": {},
     "output_type": "execute_result"
    }
   ],
   "source": [
    "k = 3\n",
    "#Train Model and Predict  \n",
    "result_type = KNeighborsClassifier(n_neighbors = k).fit(X_train,y_train).predict(X_result)\n",
    "result_type"
   ]
  },
  {
   "cell_type": "code",
   "execution_count": null,
   "metadata": {},
   "outputs": [],
   "source": []
  }
 ],
 "metadata": {
  "kernelspec": {
   "display_name": "Python 3",
   "language": "python",
   "name": "python3"
  },
  "language_info": {
   "codemirror_mode": {
    "name": "ipython",
    "version": 3
   },
   "file_extension": ".py",
   "mimetype": "text/x-python",
   "name": "python",
   "nbconvert_exporter": "python",
   "pygments_lexer": "ipython3",
   "version": "3.6.8"
  }
 },
 "nbformat": 4,
 "nbformat_minor": 2
}
